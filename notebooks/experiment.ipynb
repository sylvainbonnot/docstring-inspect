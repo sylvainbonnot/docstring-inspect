{
 "cells": [
  {
   "cell_type": "markdown",
   "source": [
    "# Example functions and class"
   ],
   "metadata": {}
  },
  {
   "cell_type": "code",
   "execution_count": 71,
   "source": [
    "def func(param1=True, param2: str = 'default val'):\n",
    "    \"\"\"Description of func with docstring groups style (Googledoc).\n",
    "\n",
    "    :param param1: descr of param1 that has True for default value\n",
    "    :param param2: descr of param2 (Default value = 'default val')\n",
    "    :type param2: str\n",
    "    :returns: some value\n",
    "    :raises keyError: raises key exception\n",
    "    :raises TypeError: raises type exception\n",
    "\n",
    "    \"\"\"\n",
    "    pass\n",
    "\n",
    "class A:\n",
    "    \"\"\" \n",
    "    a class without any interest\n",
    "    \"\"\"\n",
    "    def method(self, param1, param2=None) -> int:\n",
    "        \"\"\"\n",
    "\n",
    "        :param param1:\n",
    "        :param param2:  (Default value = None)\n",
    "        :rtype: int\n",
    "\n",
    "        \"\"\"\n",
    "        pass"
   ],
   "outputs": [],
   "metadata": {}
  },
  {
   "cell_type": "markdown",
   "source": [
    "## Get docstring from function or class"
   ],
   "metadata": {}
  },
  {
   "cell_type": "code",
   "execution_count": 72,
   "source": [
    "print(func.__doc__)"
   ],
   "outputs": [
    {
     "output_type": "stream",
     "name": "stdout",
     "text": [
      "Description of func with docstring groups style (Googledoc).\n",
      "\n",
      "    :param param1: descr of param1 that has True for default value\n",
      "    :param param2: descr of param2 (Default value = 'default val')\n",
      "    :type param2: str\n",
      "    :returns: some value\n",
      "    :raises keyError: raises key exception\n",
      "    :raises TypeError: raises type exception\n",
      "\n",
      "    \n"
     ]
    }
   ],
   "metadata": {}
  },
  {
   "cell_type": "markdown",
   "source": [
    "# Taken from openstack"
   ],
   "metadata": {}
  },
  {
   "cell_type": "code",
   "execution_count": 73,
   "source": [
    "# https://github.com/openstack/rally"
   ],
   "outputs": [],
   "metadata": {}
  },
  {
   "cell_type": "code",
   "execution_count": 74,
   "source": [
    "# Copyright 2015: Mirantis Inc.\n",
    "# All Rights Reserved.\n",
    "#\n",
    "#    Licensed under the Apache License, Version 2.0 (the \"License\"); you may\n",
    "#    not use this file except in compliance with the License. You may obtain\n",
    "#    a copy of the License at\n",
    "#\n",
    "#         http://www.apache.org/licenses/LICENSE-2.0\n",
    "#\n",
    "#    Unless required by applicable law or agreed to in writing, software\n",
    "#    distributed under the License is distributed on an \"AS IS\" BASIS, WITHOUT\n",
    "#    WARRANTIES OR CONDITIONS OF ANY KIND, either express or implied. See the\n",
    "#    License for the specific language governing permissions and limitations\n",
    "#    under the License.\n",
    "\n",
    "import re\n",
    "import sys\n",
    "\n",
    "PARAM_OR_RETURNS_REGEX = re.compile(\":(?:param|returns)\")\n",
    "RETURNS_REGEX = re.compile(\":returns: (?P<doc>.*)\", re.S)\n",
    "PARAM_REGEX = re.compile(\":param (?P<name>[\\*\\w]+): (?P<doc>.*?)\"\n",
    "                         \"(?:(?=:param)|(?=:return)|(?=:raises)|\\Z)\", re.S)\n",
    "\n",
    "\n",
    "def trim(docstring):\n",
    "    \"\"\"trim function from PEP-257\"\"\"\n",
    "    if not docstring:\n",
    "        return \"\"\n",
    "    # Convert tabs to spaces (following the normal Python rules)\n",
    "    # and split into a list of lines:\n",
    "    lines = docstring.expandtabs().splitlines()\n",
    "    # Determine minimum indentation (first line doesn't count):\n",
    "    indent = sys.maxsize\n",
    "    for line in lines[1:]:\n",
    "        stripped = line.lstrip()\n",
    "        if stripped:\n",
    "            indent = min(indent, len(line) - len(stripped))\n",
    "    # Remove indentation (first line is special):\n",
    "    trimmed = [lines[0].strip()]\n",
    "    if indent < sys.maxsize:\n",
    "        for line in lines[1:]:\n",
    "            trimmed.append(line[indent:].rstrip())\n",
    "    # Strip off trailing and leading blank lines:\n",
    "    while trimmed and not trimmed[-1]:\n",
    "        trimmed.pop()\n",
    "    while trimmed and not trimmed[0]:\n",
    "        trimmed.pop(0)\n",
    "\n",
    "    # Current code/unittests expects a line return at\n",
    "    # end of multiline docstrings\n",
    "    # workaround expected behavior from unittests\n",
    "    if \"\\n\" in docstring:\n",
    "        trimmed.append(\"\")\n",
    "\n",
    "    # Return a single string:\n",
    "    return \"\\n\".join(trimmed)\n",
    "\n",
    "\n",
    "def reindent(string):\n",
    "    return \"\\n\".join(l.strip() for l in string.strip().split(\"\\n\"))\n",
    "\n",
    "\n",
    "def parse_docstring(docstring):\n",
    "    \"\"\"Parse the docstring into its components.\n",
    "    :returns: a dictionary of form\n",
    "              {\n",
    "                  \"short_description\": ...,\n",
    "                  \"long_description\": ...,\n",
    "                  \"params\": [{\"name\": ..., \"doc\": ...}, ...],\n",
    "                  \"returns\": ...\n",
    "              }\n",
    "    \"\"\"\n",
    "\n",
    "    short_description = long_description = returns = \"\"\n",
    "    params = []\n",
    "\n",
    "    if docstring:\n",
    "        docstring = trim(docstring)\n",
    "\n",
    "        lines = docstring.split(\"\\n\", 1)\n",
    "        short_description = lines[0]\n",
    "\n",
    "        if len(lines) > 1:\n",
    "            long_description = lines[1].strip()\n",
    "\n",
    "            params_returns_desc = None\n",
    "\n",
    "            match = PARAM_OR_RETURNS_REGEX.search(long_description)\n",
    "            if match:\n",
    "                long_desc_end = match.start()\n",
    "                params_returns_desc = long_description[long_desc_end:].strip()\n",
    "                long_description = long_description[:long_desc_end].rstrip()\n",
    "\n",
    "            if params_returns_desc:\n",
    "                params = [\n",
    "                    {\"name\": name, \"doc\": trim(doc)}\n",
    "                    for name, doc in PARAM_REGEX.findall(params_returns_desc)\n",
    "                ]\n",
    "\n",
    "                match = RETURNS_REGEX.search(params_returns_desc)\n",
    "                if match:\n",
    "                    returns = reindent(match.group(\"doc\"))\n",
    "\n",
    "    return {\n",
    "        \"short_description\": short_description,\n",
    "        \"long_description\": long_description,\n",
    "        \"params\": params,\n",
    "        \"returns\": returns\n",
    "    }\n",
    "\n",
    "\n",
    "class InfoMixin(object):\n",
    "\n",
    "    @classmethod\n",
    "    def _get_doc(cls):\n",
    "        \"\"\"Return documentary of class\n",
    "        By default it returns docstring of class, but it can be overridden\n",
    "        for example for cases like merging own docstring with parent\n",
    "        \"\"\"\n",
    "        return cls.__doc__\n",
    "\n",
    "    @classmethod\n",
    "    def get_info(cls):\n",
    "        doc = parse_docstring(cls._get_doc())\n",
    "\n",
    "        return {\n",
    "            \"name\": cls.get_name(),\n",
    "            \"platform\": cls.get_platform(),\n",
    "            \"platform\": cls.get_platform(),\n",
    "            \"module\": cls.__module__,\n",
    "            \"title\": doc[\"short_description\"],\n",
    "            \"description\": doc[\"long_description\"],\n",
    "            \"parameters\": doc[\"params\"],\n",
    "            \"schema\": getattr(cls, \"CONFIG_SCHEMA\", None),\n",
    "            \"returns\": doc[\"returns\"]\n",
    "        }"
   ],
   "outputs": [],
   "metadata": {}
  },
  {
   "cell_type": "code",
   "execution_count": 75,
   "source": [
    "docstring = func.__doc__\n",
    "parse_docstring(docstring)"
   ],
   "outputs": [
    {
     "output_type": "execute_result",
     "data": {
      "text/plain": [
       "{'short_description': 'Description of func with docstring groups style (Googledoc).',\n",
       " 'long_description': '',\n",
       " 'params': [{'name': 'param1',\n",
       "   'doc': 'descr of param1 that has True for default value\\n'},\n",
       "  {'name': 'param2',\n",
       "   'doc': \"descr of param2 (Default value = 'default val')\\n:type param2: str\\n\"}],\n",
       " 'returns': 'some value\\n:raises keyError: raises key exception\\n:raises TypeError: raises type exception'}"
      ]
     },
     "metadata": {},
     "execution_count": 75
    }
   ],
   "metadata": {}
  },
  {
   "cell_type": "code",
   "execution_count": 76,
   "source": [
    "import inspect"
   ],
   "outputs": [],
   "metadata": {}
  },
  {
   "cell_type": "code",
   "execution_count": 77,
   "source": [
    "inspect.getdoc(func)"
   ],
   "outputs": [
    {
     "output_type": "execute_result",
     "data": {
      "text/plain": [
       "\"Description of func with docstring groups style (Googledoc).\\n\\n:param param1: descr of param1 that has True for default value\\n:param param2: descr of param2 (Default value = 'default val')\\n:type param2: str\\n:returns: some value\\n:raises keyError: raises key exception\\n:raises TypeError: raises type exception\""
      ]
     },
     "metadata": {},
     "execution_count": 77
    }
   ],
   "metadata": {}
  },
  {
   "cell_type": "code",
   "execution_count": 78,
   "source": [
    "A.__doc__"
   ],
   "outputs": [
    {
     "output_type": "execute_result",
     "data": {
      "text/plain": [
       "' \\n    a class without any interest\\n    '"
      ]
     },
     "metadata": {},
     "execution_count": 78
    }
   ],
   "metadata": {}
  },
  {
   "cell_type": "markdown",
   "source": [
    "inspect.getdoc(object)\n",
    "Get the documentation string for an object, cleaned up with cleandoc(). If the documentation string for an object is not provided and the object is a class, a method, a property or a descriptor, retrieve the documentation string from the inheritance hierarchy.\n",
    "\n",
    "Changed in version 3.5: Documentation strings are now inherited if not overridden.\n",
    "\n",
    "inspect.getcomments(object)\n",
    "Return in a single string any lines of comments immediately preceding the object’s source code (for a class, function, or method), or at the top of the Python source file (if the object is a module). If the object’s source code is unavailable, return None. This could happen if the object has been defined in C or the interactive shell."
   ],
   "metadata": {}
  },
  {
   "cell_type": "markdown",
   "source": [
    "# Loop through all functions and classes"
   ],
   "metadata": {}
  },
  {
   "cell_type": "code",
   "execution_count": 49,
   "source": [
    "import ast"
   ],
   "outputs": [],
   "metadata": {}
  },
  {
   "cell_type": "code",
   "execution_count": 50,
   "source": [
    "ast_filename = '/Users/sylvain/Desktop/testpython.py'\n",
    "with open(ast_filename) as fd:\n",
    "    file_contents = fd.read()\n",
    "\n",
    "module = ast.parse(file_contents)\n",
    "function_definitions = [node for node in module.body if isinstance(node, ast.FunctionDef)]"
   ],
   "outputs": [],
   "metadata": {}
  },
  {
   "cell_type": "code",
   "execution_count": 51,
   "source": [
    "function_definitions"
   ],
   "outputs": [
    {
     "output_type": "execute_result",
     "data": {
      "text/plain": [
       "[<_ast.FunctionDef at 0x7ffb44b6b970>, <_ast.FunctionDef at 0x7ffb44b6bb80>]"
      ]
     },
     "metadata": {},
     "execution_count": 51
    }
   ],
   "metadata": {}
  },
  {
   "cell_type": "code",
   "execution_count": 52,
   "source": [
    "[f.name for f in function_definitions]"
   ],
   "outputs": [
    {
     "output_type": "execute_result",
     "data": {
      "text/plain": [
       "['func', 'myfunc']"
      ]
     },
     "metadata": {},
     "execution_count": 52
    }
   ],
   "metadata": {}
  },
  {
   "cell_type": "code",
   "execution_count": 79,
   "source": [
    "for f in function_definitions:\n",
    "    print('---')\n",
    "    print(f.name)\n",
    "    print('---')\n",
    "    print(ast.get_docstring(f))"
   ],
   "outputs": [
    {
     "output_type": "stream",
     "name": "stdout",
     "text": [
      "---\n",
      "func\n",
      "---\n",
      "Description of func with docstring groups style (Googledoc).\n",
      "\n",
      ":param param1: descr of param1 that has True for default value\n",
      ":param param2: descr of param2 (Default value = 'default val')\n",
      ":type param2: str\n",
      ":returns: some value\n",
      ":raises keyError: raises key exception\n",
      ":raises TypeError: raises type exception\n",
      "\n",
      ".. code-block:: python\n",
      "\n",
      "    def func(x):\n",
      "        return 2*x\n",
      "---\n",
      "myfunc\n",
      "---\n",
      "Description of func with docstring groups style (Googledoc).\n",
      "\n",
      ":param param1: descr of param1 that has True for default value\n",
      ":param param2: descr of param2 (Default value = 'default val')\n",
      ":type param2: str\n",
      ":returns: some value\n",
      ":raises keyError: raises key exception\n",
      ":raises TypeError: raises type exception\n",
      "\n",
      ".. code-block:: python\n",
      "\n",
      "    def func(x):\n",
      "        return 2*x\n"
     ]
    }
   ],
   "metadata": {}
  },
  {
   "cell_type": "markdown",
   "source": [],
   "metadata": {}
  },
  {
   "cell_type": "code",
   "execution_count": 80,
   "source": [
    "class_definitions = [node for node in module.body if isinstance(node, ast.ClassDef)]\n",
    "method_definitions = []\n",
    "\n",
    "for class_def in class_definitions:\n",
    "    method_definitions.append([node for node in class_def.body if isinstance(node, ast.FunctionDef)])"
   ],
   "outputs": [],
   "metadata": {}
  },
  {
   "cell_type": "code",
   "execution_count": 81,
   "source": [
    "method_definitions"
   ],
   "outputs": [
    {
     "output_type": "execute_result",
     "data": {
      "text/plain": [
       "[[<_ast.FunctionDef at 0x7ffb46a54b80>]]"
      ]
     },
     "metadata": {},
     "execution_count": 81
    }
   ],
   "metadata": {}
  },
  {
   "cell_type": "code",
   "execution_count": 82,
   "source": [
    "for m in method_definitions:\n",
    "    for f in m:\n",
    "        print('---')\n",
    "        print(f.name)\n",
    "        print('---')\n",
    "        print(ast.get_docstring(f))"
   ],
   "outputs": [
    {
     "output_type": "stream",
     "name": "stdout",
     "text": [
      "---\n",
      "method\n",
      "---\n",
      ":param param1:\n",
      ":param param2:  (Default value = None)\n",
      ":rtype: int\n"
     ]
    }
   ],
   "metadata": {}
  },
  {
   "cell_type": "code",
   "execution_count": 83,
   "source": [
    "ast.get_docstring(class_definitions[0])"
   ],
   "outputs": [
    {
     "output_type": "execute_result",
     "data": {
      "text/plain": [
       "''"
      ]
     },
     "metadata": {},
     "execution_count": 83
    }
   ],
   "metadata": {}
  },
  {
   "cell_type": "code",
   "execution_count": 84,
   "source": [
    "ast.get_docstring(class_definitions[0].body[1])"
   ],
   "outputs": [
    {
     "output_type": "execute_result",
     "data": {
      "text/plain": [
       "':param param1:\\n:param param2:  (Default value = None)\\n:rtype: int'"
      ]
     },
     "metadata": {},
     "execution_count": 84
    }
   ],
   "metadata": {}
  },
  {
   "cell_type": "markdown",
   "source": [
    "# Second pass"
   ],
   "metadata": {}
  },
  {
   "cell_type": "code",
   "execution_count": 85,
   "source": [
    "import ast"
   ],
   "outputs": [],
   "metadata": {}
  },
  {
   "cell_type": "code",
   "execution_count": 89,
   "source": [
    "ast.dump(ast.parse(\"x,y=42\"))"
   ],
   "outputs": [
    {
     "output_type": "execute_result",
     "data": {
      "text/plain": [
       "\"Module(body=[Assign(targets=[Tuple(elts=[Name(id='x', ctx=Store()), Name(id='y', ctx=Store())], ctx=Store())], value=Constant(value=42, kind=None), type_comment=None)], type_ignores=[])\""
      ]
     },
     "metadata": {},
     "execution_count": 89
    }
   ],
   "metadata": {}
  },
  {
   "cell_type": "code",
   "execution_count": 90,
   "source": [
    "compile(ast.parse(\"x=42\"),'<input>','exec')"
   ],
   "outputs": [
    {
     "output_type": "execute_result",
     "data": {
      "text/plain": [
       "<code object <module> at 0x7ffb46ace9d0, file \"<input>\", line 1>"
      ]
     },
     "metadata": {},
     "execution_count": 90
    }
   ],
   "metadata": {}
  },
  {
   "cell_type": "code",
   "execution_count": 92,
   "source": [
    "eval(compile(ast.parse(\"x=42\"),'<input>','exec'))"
   ],
   "outputs": [],
   "metadata": {}
  },
  {
   "cell_type": "code",
   "execution_count": 93,
   "source": [
    "x"
   ],
   "outputs": [
    {
     "output_type": "execute_result",
     "data": {
      "text/plain": [
       "42"
      ]
     },
     "metadata": {},
     "execution_count": 93
    }
   ],
   "metadata": {}
  },
  {
   "cell_type": "code",
   "execution_count": 110,
   "source": [
    "helo_world=ast.Str(s='hello world!',lineno=1,col_offset=1)"
   ],
   "outputs": [],
   "metadata": {}
  },
  {
   "cell_type": "code",
   "execution_count": 111,
   "source": [
    "print_name=ast.Name(id='print',ctx=ast.Load(),lineno=1, col_offset=1)\n",
    "print_call=ast.Call(func=print_name,ctx=ast.Load(),args=[helo_world],keywords=[],lineno=1,col_offset=1)\n",
    "module=ast.Module(body=[ast.Expr(print_call,lineno=1,col_offset=1)],lineno=1,col_offset=1, type_ignores=[])"
   ],
   "outputs": [],
   "metadata": {}
  },
  {
   "cell_type": "code",
   "execution_count": 112,
   "source": [
    "code=compile(module,'','exec')"
   ],
   "outputs": [],
   "metadata": {}
  },
  {
   "cell_type": "code",
   "execution_count": 113,
   "source": [
    "eval(code)"
   ],
   "outputs": [
    {
     "output_type": "stream",
     "name": "stdout",
     "text": [
      "hello world!\n"
     ]
    }
   ],
   "metadata": {}
  },
  {
   "cell_type": "code",
   "execution_count": null,
   "source": [],
   "outputs": [],
   "metadata": {}
  }
 ],
 "metadata": {
  "orig_nbformat": 4,
  "language_info": {
   "name": "python",
   "version": "3.8.11",
   "mimetype": "text/x-python",
   "codemirror_mode": {
    "name": "ipython",
    "version": 3
   },
   "pygments_lexer": "ipython3",
   "nbconvert_exporter": "python",
   "file_extension": ".py"
  },
  "kernelspec": {
   "name": "python3",
   "display_name": "Python 3.8.11 64-bit ('otopy38': conda)"
  },
  "interpreter": {
   "hash": "094c189d81026d09b06c18854d442a49d96e55830a4824cf8c6f41ec19877a82"
  }
 },
 "nbformat": 4,
 "nbformat_minor": 2
}